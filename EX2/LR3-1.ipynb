{
  "nbformat": 4,
  "nbformat_minor": 0,
  "metadata": {
    "colab": {
      "provenance": []
    },
    "kernelspec": {
      "name": "python3",
      "display_name": "Python 3"
    },
    "language_info": {
      "name": "python"
    }
  },
  "cells": [
    {
      "cell_type": "code",
      "execution_count": 4,
      "metadata": {
        "id": "oQ8IsY5asr-u"
      },
      "outputs": [],
      "source": [
        "students = [\n",
        "    {\"last_name\": \"Иванов\", \"first_name\": \"Иван\", \"birth_date\": \"2000-01-01\"},\n",
        "    {\"last_name\": \"Петрова\", \"first_name\": \"Мария\", \"birth_date\": \"2001-02-02\"},\n",
        "    {\"last_name\": \"Сидоров\", \"first_name\": \"Николай\", \"birth_date\": \"2002-03-03\"},\n",
        "    {\"last_name\": \"Кузнецова\", \"first_name\": \"Ольга\", \"birth_date\": \"1998-04-04\"},\n",
        "    {\"last_name\": \"Попова\", \"first_name\": \"Светлана\", \"birth_date\": \"2003-05-05\"},\n",
        "]\n"
      ]
    },
    {
      "cell_type": "code",
      "source": [
        "import datetime\n",
        "\n",
        "def get_age(birth_date_str):\n",
        "  birth_date = datetime.datetime.strptime(birth_date_str, \"%Y-%m-%d\").date()\n",
        "  today = datetime.date.today()\n",
        "  return today.year - birth_date.year\n",
        "\n",
        "# Сортировка по дате рождения\n",
        "sorted_students = sorted(students, key=lambda student: student[\"birth_date\"])\n",
        "\n",
        "# Самый младший студент\n",
        "youngest_student = sorted_students[0]\n",
        "youngest_age = get_age(youngest_student[\"birth_date\"])\n",
        "print(f\"Самый младший студент: {youngest_student['last_name']} {youngest_student['first_name']}, возраст: {youngest_age}\")\n",
        "\n",
        "# Самый старший студент\n",
        "oldest_student = sorted_students[-1]\n",
        "oldest_age = get_age(oldest_student[\"birth_date\"])\n",
        "print(f\"Самый старший студент: {oldest_student['last_name']} {oldest_student['first_name']}, возраст: {oldest_age}\")\n",
        "\n"
      ],
      "metadata": {
        "colab": {
          "base_uri": "https://localhost:8080/"
        },
        "id": "rZqmFXoYud9a",
        "outputId": "e7f1d497-9c28-4795-b24e-707c3d736f8d"
      },
      "execution_count": 5,
      "outputs": [
        {
          "output_type": "stream",
          "name": "stdout",
          "text": [
            "Самый младший студент: Кузнецова Ольга, возраст: 26\n",
            "Самый старший студент: Попова Светлана, возраст: 21\n"
          ]
        }
      ]
    }
  ]
}