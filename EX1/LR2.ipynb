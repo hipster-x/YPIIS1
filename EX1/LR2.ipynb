{
  "nbformat": 4,
  "nbformat_minor": 0,
  "metadata": {
    "colab": {
      "provenance": []
    },
    "kernelspec": {
      "name": "python3",
      "display_name": "Python 3"
    },
    "language_info": {
      "name": "python"
    }
  },
  "cells": [
    {
      "cell_type": "code",
      "execution_count": 3,
      "metadata": {
        "colab": {
          "base_uri": "https://localhost:8080/"
        },
        "id": "oQ8IsY5asr-u",
        "outputId": "af247e6e-4847-47b4-d8af-bc68b8f7fc16"
      },
      "outputs": [
        {
          "output_type": "stream",
          "name": "stdout",
          "text": [
            "6\n",
            "72\n",
            "21\n",
            "96\n",
            "10\n",
            "71\n",
            "1\n",
            "20\n",
            "54\n",
            "55\n"
          ]
        }
      ],
      "source": [
        "import random\n",
        "\n",
        "def generate_random_array(array_length, min_value, max_value):\n",
        "  \"\"\"\n",
        "  Заполняет массив случайными числами в заданном диапазоне.\n",
        "\n",
        "  Args:\n",
        "    array_length: Длина массива.\n",
        "    min_value: Минимальное значение случайного числа.\n",
        "    max_value: Максимальное значение случайного числа.\n",
        "\n",
        "  Returns:\n",
        "    Массив, заполненный случайными числами.\n",
        "  \"\"\"\n",
        "\n",
        "  random_array = [random.randint(min_value, max_value) for _ in range(array_length)]\n",
        "  return random_array\n",
        "\n",
        "def print_array(array):\n",
        "  \"\"\"\n",
        "  Выводит массив на экран.\n",
        "\n",
        "  Args:\n",
        "    array: Массив, который нужно вывести.\n",
        "  \"\"\"\n",
        "\n",
        "  for element in array:\n",
        "    print(element)\n",
        "\n",
        "# Пример использования\n",
        "\n",
        "array_length = 10\n",
        "min_value = 0\n",
        "max_value = 100\n",
        "\n",
        "random_array = generate_random_array(array_length, min_value, max_value)\n",
        "print_array(random_array)"
      ]
    }
  ]
}